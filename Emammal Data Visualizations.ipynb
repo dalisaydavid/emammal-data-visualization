{
 "cells": [
  {
   "cell_type": "markdown",
   "metadata": {},
   "source": [
    "## Exploration of Emammal Camera Data\n",
    "### @dalisaydavid\n",
    "#### The goal of this notebook is to work with the members of the Emammal team to see what kinds of new data visualizations are possible using their public data and Python's graphing capabilities.\n",
    "_____"
   ]
  },
  {
   "cell_type": "code",
   "execution_count": 2,
   "metadata": {},
   "outputs": [],
   "source": [
    "import pandas as pd\n",
    "from datetime import datetime, timedelta\n",
    "import matplotlib.pyplot as plt\n",
    "import numpy as np"
   ]
  },
  {
   "cell_type": "markdown",
   "metadata": {},
   "source": [
    "### Import emammal observation data for a subset of their data. This CSV only has data from a few emammal projects."
   ]
  },
  {
   "cell_type": "code",
   "execution_count": 170,
   "metadata": {},
   "outputs": [],
   "source": [
    "df = pd.read_csv('observations.csv')"
   ]
  },
  {
   "cell_type": "code",
   "execution_count": 171,
   "metadata": {},
   "outputs": [
    {
     "data": {
      "text/html": [
       "<div>\n",
       "<style scoped>\n",
       "    .dataframe tbody tr th:only-of-type {\n",
       "        vertical-align: middle;\n",
       "    }\n",
       "\n",
       "    .dataframe tbody tr th {\n",
       "        vertical-align: top;\n",
       "    }\n",
       "\n",
       "    .dataframe thead th {\n",
       "        text-align: right;\n",
       "    }\n",
       "</style>\n",
       "<table border=\"1\" class=\"dataframe\">\n",
       "  <thead>\n",
       "    <tr style=\"text-align: right;\">\n",
       "      <th></th>\n",
       "      <th>Project</th>\n",
       "      <th>Subproject</th>\n",
       "      <th>Treatment</th>\n",
       "      <th>Deployment Name</th>\n",
       "      <th>ID Type</th>\n",
       "      <th>Deployment ID</th>\n",
       "      <th>Sequence ID</th>\n",
       "      <th>Begin Time</th>\n",
       "      <th>End Time</th>\n",
       "      <th>Species Name</th>\n",
       "      <th>Common Name</th>\n",
       "      <th>Age</th>\n",
       "      <th>Sex</th>\n",
       "      <th>Individual</th>\n",
       "      <th>Count</th>\n",
       "      <th>Actual Lat</th>\n",
       "      <th>Actual Lon</th>\n",
       "      <th>Fuzzed</th>\n",
       "    </tr>\n",
       "  </thead>\n",
       "  <tbody>\n",
       "    <tr>\n",
       "      <th>0</th>\n",
       "      <td>Fresno Mammals Project</td>\n",
       "      <td>Fresno Urban Mammals</td>\n",
       "      <td>NaN</td>\n",
       "      <td>Yard 3(W.Twain Ave)</td>\n",
       "      <td>Researcher</td>\n",
       "      <td>d27706</td>\n",
       "      <td>d27706s1</td>\n",
       "      <td>2017-06-29T09:22:59</td>\n",
       "      <td>2017-06-29T09:23:29</td>\n",
       "      <td>Camera Trapper</td>\n",
       "      <td>Camera Trapper</td>\n",
       "      <td>Unknown</td>\n",
       "      <td>Unknown</td>\n",
       "      <td>NaN</td>\n",
       "      <td>1</td>\n",
       "      <td>36.43835</td>\n",
       "      <td>-119.49055</td>\n",
       "      <td>False</td>\n",
       "    </tr>\n",
       "    <tr>\n",
       "      <th>1</th>\n",
       "      <td>Fresno Mammals Project</td>\n",
       "      <td>Fresno Urban Mammals</td>\n",
       "      <td>NaN</td>\n",
       "      <td>Yard 3(W.Twain Ave)</td>\n",
       "      <td>Researcher</td>\n",
       "      <td>d27706</td>\n",
       "      <td>d27706s10</td>\n",
       "      <td>2017-07-01T07:18:25</td>\n",
       "      <td>2017-07-01T07:19:05</td>\n",
       "      <td>Canis familiaris</td>\n",
       "      <td>Domestic Dog</td>\n",
       "      <td>Unknown</td>\n",
       "      <td>Unknown</td>\n",
       "      <td>NaN</td>\n",
       "      <td>1</td>\n",
       "      <td>36.43835</td>\n",
       "      <td>-119.49055</td>\n",
       "      <td>False</td>\n",
       "    </tr>\n",
       "    <tr>\n",
       "      <th>2</th>\n",
       "      <td>Fresno Mammals Project</td>\n",
       "      <td>Fresno Urban Mammals</td>\n",
       "      <td>NaN</td>\n",
       "      <td>Yard 3(W.Twain Ave)</td>\n",
       "      <td>Researcher</td>\n",
       "      <td>d27706</td>\n",
       "      <td>d27706s100</td>\n",
       "      <td>2017-07-20T09:47:31</td>\n",
       "      <td>2017-07-20T09:47:35</td>\n",
       "      <td>Canis familiaris</td>\n",
       "      <td>Domestic Dog</td>\n",
       "      <td>Unknown</td>\n",
       "      <td>Unknown</td>\n",
       "      <td>NaN</td>\n",
       "      <td>1</td>\n",
       "      <td>36.43835</td>\n",
       "      <td>-119.49055</td>\n",
       "      <td>False</td>\n",
       "    </tr>\n",
       "    <tr>\n",
       "      <th>3</th>\n",
       "      <td>Fresno Mammals Project</td>\n",
       "      <td>Fresno Urban Mammals</td>\n",
       "      <td>NaN</td>\n",
       "      <td>Yard 3(W.Twain Ave)</td>\n",
       "      <td>Researcher</td>\n",
       "      <td>d27706</td>\n",
       "      <td>d27706s101</td>\n",
       "      <td>2017-07-20T09:51:16</td>\n",
       "      <td>2017-07-20T09:51:20</td>\n",
       "      <td>Canis familiaris</td>\n",
       "      <td>Domestic Dog</td>\n",
       "      <td>Unknown</td>\n",
       "      <td>Unknown</td>\n",
       "      <td>NaN</td>\n",
       "      <td>1</td>\n",
       "      <td>36.43835</td>\n",
       "      <td>-119.49055</td>\n",
       "      <td>False</td>\n",
       "    </tr>\n",
       "    <tr>\n",
       "      <th>4</th>\n",
       "      <td>Fresno Mammals Project</td>\n",
       "      <td>Fresno Urban Mammals</td>\n",
       "      <td>NaN</td>\n",
       "      <td>Yard 3(W.Twain Ave)</td>\n",
       "      <td>Researcher</td>\n",
       "      <td>d27706</td>\n",
       "      <td>d27706s102</td>\n",
       "      <td>2017-07-20T20:25:22</td>\n",
       "      <td>2017-07-20T20:25:26</td>\n",
       "      <td>Canis familiaris</td>\n",
       "      <td>Domestic Dog</td>\n",
       "      <td>Unknown</td>\n",
       "      <td>Unknown</td>\n",
       "      <td>NaN</td>\n",
       "      <td>1</td>\n",
       "      <td>36.43835</td>\n",
       "      <td>-119.49055</td>\n",
       "      <td>False</td>\n",
       "    </tr>\n",
       "  </tbody>\n",
       "</table>\n",
       "</div>"
      ],
      "text/plain": [
       "                  Project            Subproject Treatment  \\\n",
       "0  Fresno Mammals Project  Fresno Urban Mammals       NaN   \n",
       "1  Fresno Mammals Project  Fresno Urban Mammals       NaN   \n",
       "2  Fresno Mammals Project  Fresno Urban Mammals       NaN   \n",
       "3  Fresno Mammals Project  Fresno Urban Mammals       NaN   \n",
       "4  Fresno Mammals Project  Fresno Urban Mammals       NaN   \n",
       "\n",
       "       Deployment Name     ID Type Deployment ID Sequence ID  \\\n",
       "0  Yard 3(W.Twain Ave)  Researcher        d27706    d27706s1   \n",
       "1  Yard 3(W.Twain Ave)  Researcher        d27706   d27706s10   \n",
       "2  Yard 3(W.Twain Ave)  Researcher        d27706  d27706s100   \n",
       "3  Yard 3(W.Twain Ave)  Researcher        d27706  d27706s101   \n",
       "4  Yard 3(W.Twain Ave)  Researcher        d27706  d27706s102   \n",
       "\n",
       "            Begin Time             End Time      Species Name     Common Name  \\\n",
       "0  2017-06-29T09:22:59  2017-06-29T09:23:29    Camera Trapper  Camera Trapper   \n",
       "1  2017-07-01T07:18:25  2017-07-01T07:19:05  Canis familiaris    Domestic Dog   \n",
       "2  2017-07-20T09:47:31  2017-07-20T09:47:35  Canis familiaris    Domestic Dog   \n",
       "3  2017-07-20T09:51:16  2017-07-20T09:51:20  Canis familiaris    Domestic Dog   \n",
       "4  2017-07-20T20:25:22  2017-07-20T20:25:26  Canis familiaris    Domestic Dog   \n",
       "\n",
       "       Age      Sex  Individual  Count  Actual Lat  Actual Lon  Fuzzed  \n",
       "0  Unknown  Unknown         NaN      1    36.43835  -119.49055   False  \n",
       "1  Unknown  Unknown         NaN      1    36.43835  -119.49055   False  \n",
       "2  Unknown  Unknown         NaN      1    36.43835  -119.49055   False  \n",
       "3  Unknown  Unknown         NaN      1    36.43835  -119.49055   False  \n",
       "4  Unknown  Unknown         NaN      1    36.43835  -119.49055   False  "
      ]
     },
     "execution_count": 171,
     "metadata": {},
     "output_type": "execute_result"
    }
   ],
   "source": [
    "df.head()"
   ]
  },
  {
   "cell_type": "markdown",
   "metadata": {},
   "source": [
    "### Derive a couple fields and clean a couple fields for future analysis."
   ]
  },
  {
   "cell_type": "code",
   "execution_count": 197,
   "metadata": {},
   "outputs": [],
   "source": [
    "df['Begin Date'] = df.apply(lambda row: datetime.strptime(row['Begin Time'], '%Y-%m-%dT%H:%M:%S').date(), axis=1)"
   ]
  },
  {
   "cell_type": "code",
   "execution_count": 339,
   "metadata": {},
   "outputs": [],
   "source": [
    "df['Begin Month Year'] = df.apply(lambda row: datetime.strptime(row['Begin Time'], '%Y-%m-%dT%H:%M:%S').strftime('%y-%m'), axis=1)\n",
    "\n",
    "df['Begin Year'] = df.apply(lambda row: datetime.strptime(row['Begin Time'], '%Y-%m-%dT%H:%M:%S').strftime('%Y'), axis=1)\n",
    "\n"
   ]
  },
  {
   "cell_type": "code",
   "execution_count": 199,
   "metadata": {},
   "outputs": [],
   "source": [
    "df_cleaned_dates = df[df['Begin Time'] > '1964-01-01'].reset_index()"
   ]
  },
  {
   "cell_type": "code",
   "execution_count": 217,
   "metadata": {
    "scrolled": false
   },
   "outputs": [
    {
     "data": {
      "text/html": [
       "<div>\n",
       "<style scoped>\n",
       "    .dataframe tbody tr th:only-of-type {\n",
       "        vertical-align: middle;\n",
       "    }\n",
       "\n",
       "    .dataframe tbody tr th {\n",
       "        vertical-align: top;\n",
       "    }\n",
       "\n",
       "    .dataframe thead th {\n",
       "        text-align: right;\n",
       "    }\n",
       "</style>\n",
       "<table border=\"1\" class=\"dataframe\">\n",
       "  <thead>\n",
       "    <tr style=\"text-align: right;\">\n",
       "      <th></th>\n",
       "      <th>Common Name</th>\n",
       "      <th>index</th>\n",
       "      <th>Project</th>\n",
       "      <th>Subproject</th>\n",
       "      <th>Treatment</th>\n",
       "      <th>Deployment Name</th>\n",
       "      <th>ID Type</th>\n",
       "      <th>Deployment ID</th>\n",
       "      <th>Sequence ID</th>\n",
       "      <th>Begin Time</th>\n",
       "      <th>...</th>\n",
       "      <th>Species Name</th>\n",
       "      <th>Age</th>\n",
       "      <th>Sex</th>\n",
       "      <th>Individual</th>\n",
       "      <th>Count</th>\n",
       "      <th>Actual Lat</th>\n",
       "      <th>Actual Lon</th>\n",
       "      <th>Fuzzed</th>\n",
       "      <th>Begin Date</th>\n",
       "      <th>Begin Month Year</th>\n",
       "    </tr>\n",
       "  </thead>\n",
       "  <tbody>\n",
       "    <tr>\n",
       "      <th>0</th>\n",
       "      <td>American Badger</td>\n",
       "      <td>32</td>\n",
       "      <td>32</td>\n",
       "      <td>32</td>\n",
       "      <td>0</td>\n",
       "      <td>32</td>\n",
       "      <td>32</td>\n",
       "      <td>32</td>\n",
       "      <td>32</td>\n",
       "      <td>32</td>\n",
       "      <td>...</td>\n",
       "      <td>32</td>\n",
       "      <td>32</td>\n",
       "      <td>32</td>\n",
       "      <td>0</td>\n",
       "      <td>32</td>\n",
       "      <td>32</td>\n",
       "      <td>32</td>\n",
       "      <td>32</td>\n",
       "      <td>32</td>\n",
       "      <td>32</td>\n",
       "    </tr>\n",
       "    <tr>\n",
       "      <th>1</th>\n",
       "      <td>American Beaver</td>\n",
       "      <td>8</td>\n",
       "      <td>8</td>\n",
       "      <td>8</td>\n",
       "      <td>0</td>\n",
       "      <td>8</td>\n",
       "      <td>8</td>\n",
       "      <td>8</td>\n",
       "      <td>8</td>\n",
       "      <td>8</td>\n",
       "      <td>...</td>\n",
       "      <td>8</td>\n",
       "      <td>8</td>\n",
       "      <td>8</td>\n",
       "      <td>0</td>\n",
       "      <td>8</td>\n",
       "      <td>8</td>\n",
       "      <td>8</td>\n",
       "      <td>8</td>\n",
       "      <td>8</td>\n",
       "      <td>8</td>\n",
       "    </tr>\n",
       "    <tr>\n",
       "      <th>2</th>\n",
       "      <td>American Black Bear</td>\n",
       "      <td>28</td>\n",
       "      <td>28</td>\n",
       "      <td>28</td>\n",
       "      <td>0</td>\n",
       "      <td>28</td>\n",
       "      <td>28</td>\n",
       "      <td>28</td>\n",
       "      <td>28</td>\n",
       "      <td>28</td>\n",
       "      <td>...</td>\n",
       "      <td>28</td>\n",
       "      <td>28</td>\n",
       "      <td>28</td>\n",
       "      <td>0</td>\n",
       "      <td>28</td>\n",
       "      <td>28</td>\n",
       "      <td>28</td>\n",
       "      <td>28</td>\n",
       "      <td>28</td>\n",
       "      <td>28</td>\n",
       "    </tr>\n",
       "    <tr>\n",
       "      <th>3</th>\n",
       "      <td>American Hog-nosed Skunk</td>\n",
       "      <td>32</td>\n",
       "      <td>32</td>\n",
       "      <td>32</td>\n",
       "      <td>0</td>\n",
       "      <td>32</td>\n",
       "      <td>32</td>\n",
       "      <td>32</td>\n",
       "      <td>32</td>\n",
       "      <td>32</td>\n",
       "      <td>...</td>\n",
       "      <td>32</td>\n",
       "      <td>32</td>\n",
       "      <td>32</td>\n",
       "      <td>0</td>\n",
       "      <td>32</td>\n",
       "      <td>32</td>\n",
       "      <td>32</td>\n",
       "      <td>32</td>\n",
       "      <td>32</td>\n",
       "      <td>32</td>\n",
       "    </tr>\n",
       "    <tr>\n",
       "      <th>4</th>\n",
       "      <td>American Red Squirrel</td>\n",
       "      <td>4</td>\n",
       "      <td>4</td>\n",
       "      <td>4</td>\n",
       "      <td>0</td>\n",
       "      <td>4</td>\n",
       "      <td>4</td>\n",
       "      <td>4</td>\n",
       "      <td>4</td>\n",
       "      <td>4</td>\n",
       "      <td>...</td>\n",
       "      <td>4</td>\n",
       "      <td>4</td>\n",
       "      <td>4</td>\n",
       "      <td>0</td>\n",
       "      <td>4</td>\n",
       "      <td>4</td>\n",
       "      <td>4</td>\n",
       "      <td>4</td>\n",
       "      <td>4</td>\n",
       "      <td>4</td>\n",
       "    </tr>\n",
       "  </tbody>\n",
       "</table>\n",
       "<p>5 rows × 21 columns</p>\n",
       "</div>"
      ],
      "text/plain": [
       "                Common Name  index  Project  Subproject  Treatment  \\\n",
       "0           American Badger     32       32          32          0   \n",
       "1           American Beaver      8        8           8          0   \n",
       "2       American Black Bear     28       28          28          0   \n",
       "3  American Hog-nosed Skunk     32       32          32          0   \n",
       "4     American Red Squirrel      4        4           4          0   \n",
       "\n",
       "   Deployment Name  ID Type  Deployment ID  Sequence ID  Begin Time  ...  \\\n",
       "0               32       32             32           32          32  ...   \n",
       "1                8        8              8            8           8  ...   \n",
       "2               28       28             28           28          28  ...   \n",
       "3               32       32             32           32          32  ...   \n",
       "4                4        4              4            4           4  ...   \n",
       "\n",
       "   Species Name  Age  Sex  Individual  Count  Actual Lat  Actual Lon  Fuzzed  \\\n",
       "0            32   32   32           0     32          32          32      32   \n",
       "1             8    8    8           0      8           8           8       8   \n",
       "2            28   28   28           0     28          28          28      28   \n",
       "3            32   32   32           0     32          32          32      32   \n",
       "4             4    4    4           0      4           4           4       4   \n",
       "\n",
       "   Begin Date  Begin Month Year  \n",
       "0          32                32  \n",
       "1           8                 8  \n",
       "2          28                28  \n",
       "3          32                32  \n",
       "4           4                 4  \n",
       "\n",
       "[5 rows x 21 columns]"
      ]
     },
     "execution_count": 217,
     "metadata": {},
     "output_type": "execute_result"
    }
   ],
   "source": [
    "df_count_per_species = df_cleaned_dates.groupby(['Common Name']).count().reset_index()\n",
    "df_count_per_species.head()"
   ]
  },
  {
   "cell_type": "markdown",
   "metadata": {},
   "source": [
    "### Get a count of occurences per species and month-year."
   ]
  },
  {
   "cell_type": "code",
   "execution_count": 207,
   "metadata": {},
   "outputs": [
    {
     "data": {
      "text/html": [
       "<div>\n",
       "<style scoped>\n",
       "    .dataframe tbody tr th:only-of-type {\n",
       "        vertical-align: middle;\n",
       "    }\n",
       "\n",
       "    .dataframe tbody tr th {\n",
       "        vertical-align: top;\n",
       "    }\n",
       "\n",
       "    .dataframe thead th {\n",
       "        text-align: right;\n",
       "    }\n",
       "</style>\n",
       "<table border=\"1\" class=\"dataframe\">\n",
       "  <thead>\n",
       "    <tr style=\"text-align: right;\">\n",
       "      <th></th>\n",
       "      <th>Common Name</th>\n",
       "      <th>Begin Month Year</th>\n",
       "      <th>index</th>\n",
       "      <th>Project</th>\n",
       "      <th>Subproject</th>\n",
       "      <th>Treatment</th>\n",
       "      <th>Deployment Name</th>\n",
       "      <th>ID Type</th>\n",
       "      <th>Deployment ID</th>\n",
       "      <th>Sequence ID</th>\n",
       "      <th>...</th>\n",
       "      <th>End Time</th>\n",
       "      <th>Species Name</th>\n",
       "      <th>Age</th>\n",
       "      <th>Sex</th>\n",
       "      <th>Individual</th>\n",
       "      <th>Count</th>\n",
       "      <th>Actual Lat</th>\n",
       "      <th>Actual Lon</th>\n",
       "      <th>Fuzzed</th>\n",
       "      <th>Begin Date</th>\n",
       "    </tr>\n",
       "  </thead>\n",
       "  <tbody>\n",
       "    <tr>\n",
       "      <th>0</th>\n",
       "      <td>American Badger</td>\n",
       "      <td>16-04</td>\n",
       "      <td>1</td>\n",
       "      <td>1</td>\n",
       "      <td>1</td>\n",
       "      <td>0</td>\n",
       "      <td>1</td>\n",
       "      <td>1</td>\n",
       "      <td>1</td>\n",
       "      <td>1</td>\n",
       "      <td>...</td>\n",
       "      <td>1</td>\n",
       "      <td>1</td>\n",
       "      <td>1</td>\n",
       "      <td>1</td>\n",
       "      <td>0</td>\n",
       "      <td>1</td>\n",
       "      <td>1</td>\n",
       "      <td>1</td>\n",
       "      <td>1</td>\n",
       "      <td>1</td>\n",
       "    </tr>\n",
       "    <tr>\n",
       "      <th>1</th>\n",
       "      <td>American Badger</td>\n",
       "      <td>16-05</td>\n",
       "      <td>4</td>\n",
       "      <td>4</td>\n",
       "      <td>4</td>\n",
       "      <td>0</td>\n",
       "      <td>4</td>\n",
       "      <td>4</td>\n",
       "      <td>4</td>\n",
       "      <td>4</td>\n",
       "      <td>...</td>\n",
       "      <td>4</td>\n",
       "      <td>4</td>\n",
       "      <td>4</td>\n",
       "      <td>4</td>\n",
       "      <td>0</td>\n",
       "      <td>4</td>\n",
       "      <td>4</td>\n",
       "      <td>4</td>\n",
       "      <td>4</td>\n",
       "      <td>4</td>\n",
       "    </tr>\n",
       "    <tr>\n",
       "      <th>2</th>\n",
       "      <td>American Badger</td>\n",
       "      <td>17-03</td>\n",
       "      <td>2</td>\n",
       "      <td>2</td>\n",
       "      <td>2</td>\n",
       "      <td>0</td>\n",
       "      <td>2</td>\n",
       "      <td>2</td>\n",
       "      <td>2</td>\n",
       "      <td>2</td>\n",
       "      <td>...</td>\n",
       "      <td>2</td>\n",
       "      <td>2</td>\n",
       "      <td>2</td>\n",
       "      <td>2</td>\n",
       "      <td>0</td>\n",
       "      <td>2</td>\n",
       "      <td>2</td>\n",
       "      <td>2</td>\n",
       "      <td>2</td>\n",
       "      <td>2</td>\n",
       "    </tr>\n",
       "    <tr>\n",
       "      <th>3</th>\n",
       "      <td>American Badger</td>\n",
       "      <td>17-04</td>\n",
       "      <td>7</td>\n",
       "      <td>7</td>\n",
       "      <td>7</td>\n",
       "      <td>0</td>\n",
       "      <td>7</td>\n",
       "      <td>7</td>\n",
       "      <td>7</td>\n",
       "      <td>7</td>\n",
       "      <td>...</td>\n",
       "      <td>7</td>\n",
       "      <td>7</td>\n",
       "      <td>7</td>\n",
       "      <td>7</td>\n",
       "      <td>0</td>\n",
       "      <td>7</td>\n",
       "      <td>7</td>\n",
       "      <td>7</td>\n",
       "      <td>7</td>\n",
       "      <td>7</td>\n",
       "    </tr>\n",
       "    <tr>\n",
       "      <th>4</th>\n",
       "      <td>American Badger</td>\n",
       "      <td>18-05</td>\n",
       "      <td>4</td>\n",
       "      <td>4</td>\n",
       "      <td>4</td>\n",
       "      <td>0</td>\n",
       "      <td>4</td>\n",
       "      <td>4</td>\n",
       "      <td>4</td>\n",
       "      <td>4</td>\n",
       "      <td>...</td>\n",
       "      <td>4</td>\n",
       "      <td>4</td>\n",
       "      <td>4</td>\n",
       "      <td>4</td>\n",
       "      <td>0</td>\n",
       "      <td>4</td>\n",
       "      <td>4</td>\n",
       "      <td>4</td>\n",
       "      <td>4</td>\n",
       "      <td>4</td>\n",
       "    </tr>\n",
       "  </tbody>\n",
       "</table>\n",
       "<p>5 rows × 21 columns</p>\n",
       "</div>"
      ],
      "text/plain": [
       "       Common Name Begin Month Year  index  Project  Subproject  Treatment  \\\n",
       "0  American Badger            16-04      1        1           1          0   \n",
       "1  American Badger            16-05      4        4           4          0   \n",
       "2  American Badger            17-03      2        2           2          0   \n",
       "3  American Badger            17-04      7        7           7          0   \n",
       "4  American Badger            18-05      4        4           4          0   \n",
       "\n",
       "   Deployment Name  ID Type  Deployment ID  Sequence ID  ...  End Time  \\\n",
       "0                1        1              1            1  ...         1   \n",
       "1                4        4              4            4  ...         4   \n",
       "2                2        2              2            2  ...         2   \n",
       "3                7        7              7            7  ...         7   \n",
       "4                4        4              4            4  ...         4   \n",
       "\n",
       "   Species Name  Age  Sex  Individual  Count  Actual Lat  Actual Lon  Fuzzed  \\\n",
       "0             1    1    1           0      1           1           1       1   \n",
       "1             4    4    4           0      4           4           4       4   \n",
       "2             2    2    2           0      2           2           2       2   \n",
       "3             7    7    7           0      7           7           7       7   \n",
       "4             4    4    4           0      4           4           4       4   \n",
       "\n",
       "   Begin Date  \n",
       "0           1  \n",
       "1           4  \n",
       "2           2  \n",
       "3           7  \n",
       "4           4  \n",
       "\n",
       "[5 rows x 21 columns]"
      ]
     },
     "execution_count": 207,
     "metadata": {},
     "output_type": "execute_result"
    }
   ],
   "source": [
    "df_count_per_month_year_species = df_cleaned_dates.groupby(['Common Name', 'Begin Month Year']).count().reset_index()\n",
    "df_count_per_month_year_species.head()"
   ]
  },
  {
   "cell_type": "markdown",
   "metadata": {},
   "source": [
    "### Get counts over time for the Red Fox, American Beaver, American Black Bear, and American Badger."
   ]
  },
  {
   "cell_type": "code",
   "execution_count": 202,
   "metadata": {},
   "outputs": [],
   "source": [
    "df_red_fox_per_month_year = df_count_per_month_year_species[df_count_per_month_year_species['Common Name'] == 'Red Fox']\n",
    "df_american_beaver_per_month_year = df_count_per_month_year_species[df_count_per_month_year_species['Common Name'] == 'American Beaver']\n",
    "df_american_black_bear_per_month_year = df_count_per_month_year_species[df_count_per_month_year_species['Common Name'] == 'American Black Bear']\n",
    "df_american_badger_per_month_year = df_count_per_month_year_species[df_count_per_month_year_species['Common Name'] == 'American Badger']"
   ]
  },
  {
   "cell_type": "markdown",
   "metadata": {},
   "source": [
    "### Visualization 1: Compare shape of occurences per species across several sites."
   ]
  },
  {
   "cell_type": "code",
   "execution_count": 203,
   "metadata": {},
   "outputs": [
    {
     "data": {
      "image/png": "[encoded data removed]",
      "text/plain": [
       "<Figure size 1008x504 with 4 Axes>"
      ]
     },
     "metadata": {
      "needs_background": "light"
     },
     "output_type": "display_data"
    }
   ],
   "source": [
    "fig, ax = plt.subplots(nrows=2, ncols=2, figsize=(14,7))\n",
    "plt.suptitle(\"Shape of occurences per species\", fontsize=20, fontweight=0, color='black')\n",
    "\n",
    "ax[0,0].set_title('Frequency of Red Fox')\n",
    "ax[0,0].plot(df_red_fox_per_month_year['Begin Month Year'], df_red_fox_per_month_year['Project'], linewidth=2.4, alpha=0.9, color='red')\n",
    "ax[0,0].set_facecolor((.9, .9, .9))\n",
    "\n",
    "ax[0,1].set_title('Frequency of American Beaver')\n",
    "ax[0,1].plot(df_american_beaver_per_month_year['Begin Month Year'], df_american_beaver_per_month_year['Project'], linewidth=2.4, alpha=0.9, color='orange')\n",
    "ax[0,1].set_facecolor((.9, .9, .9))\n",
    "\n",
    "ax[1,0].set_title('Frequency of American Black Bear')\n",
    "ax[1,0].plot(df_american_black_bear_per_month_year['Begin Month Year'], df_american_black_bear_per_month_year['Project'], linewidth=2.4, alpha=0.9, color='black')\n",
    "ax[1,0].set_facecolor((.9, .9, .9))\n",
    "\n",
    "ax[1,1].set_title('Frequency of American Badger')\n",
    "ax[1,1].plot(df_american_badger_per_month_year['Begin Month Year'], df_american_badger_per_month_year['Project'], linewidth=2.4, alpha=0.9, color='brown')\n",
    "ax[1,1].set_facecolor((.9, .9, .9))"
   ]
  },
  {
   "cell_type": "markdown",
   "metadata": {},
   "source": [
    "### Get number of unique species per project. Then filter for the Fresno Mammals Project, for example."
   ]
  },
  {
   "cell_type": "code",
   "execution_count": 222,
   "metadata": {
    "scrolled": true
   },
   "outputs": [],
   "source": [
    "df_count_unique_species_per_project_date = df_cleaned_dates.groupby(['Project', 'Begin Date'])['Common Name'].nunique().reset_index()"
   ]
  },
  {
   "cell_type": "code",
   "execution_count": 223,
   "metadata": {},
   "outputs": [
    {
     "data": {
      "text/html": [
       "<div>\n",
       "<style scoped>\n",
       "    .dataframe tbody tr th:only-of-type {\n",
       "        vertical-align: middle;\n",
       "    }\n",
       "\n",
       "    .dataframe tbody tr th {\n",
       "        vertical-align: top;\n",
       "    }\n",
       "\n",
       "    .dataframe thead th {\n",
       "        text-align: right;\n",
       "    }\n",
       "</style>\n",
       "<table border=\"1\" class=\"dataframe\">\n",
       "  <thead>\n",
       "    <tr style=\"text-align: right;\">\n",
       "      <th></th>\n",
       "      <th>Project</th>\n",
       "      <th>Begin Date</th>\n",
       "      <th>Common Name</th>\n",
       "    </tr>\n",
       "  </thead>\n",
       "  <tbody>\n",
       "    <tr>\n",
       "      <th>0</th>\n",
       "      <td>Fresno Mammals Project</td>\n",
       "      <td>2012-01-01</td>\n",
       "      <td>4</td>\n",
       "    </tr>\n",
       "    <tr>\n",
       "      <th>1</th>\n",
       "      <td>Fresno Mammals Project</td>\n",
       "      <td>2012-01-02</td>\n",
       "      <td>3</td>\n",
       "    </tr>\n",
       "    <tr>\n",
       "      <th>2</th>\n",
       "      <td>Fresno Mammals Project</td>\n",
       "      <td>2012-01-03</td>\n",
       "      <td>1</td>\n",
       "    </tr>\n",
       "    <tr>\n",
       "      <th>3</th>\n",
       "      <td>Fresno Mammals Project</td>\n",
       "      <td>2012-01-04</td>\n",
       "      <td>3</td>\n",
       "    </tr>\n",
       "    <tr>\n",
       "      <th>4</th>\n",
       "      <td>Fresno Mammals Project</td>\n",
       "      <td>2012-01-05</td>\n",
       "      <td>1</td>\n",
       "    </tr>\n",
       "  </tbody>\n",
       "</table>\n",
       "</div>"
      ],
      "text/plain": [
       "                  Project  Begin Date  Common Name\n",
       "0  Fresno Mammals Project  2012-01-01            4\n",
       "1  Fresno Mammals Project  2012-01-02            3\n",
       "2  Fresno Mammals Project  2012-01-03            1\n",
       "3  Fresno Mammals Project  2012-01-04            3\n",
       "4  Fresno Mammals Project  2012-01-05            1"
      ]
     },
     "execution_count": 223,
     "metadata": {},
     "output_type": "execute_result"
    }
   ],
   "source": [
    "df_count_unique_species_per_project_date.head()"
   ]
  },
  {
   "cell_type": "code",
   "execution_count": 244,
   "metadata": {},
   "outputs": [],
   "source": [
    "df_fresno_mammals_project = df_count_unique_species_per_project_date[(df_count_unique_species_per_project_date['Project'] == 'Fresno Mammals Project') & (df_count_unique_species_per_project_date['Begin Date'] > datetime.strptime('2016-01-01', '%Y-%m-%d').date())]"
   ]
  },
  {
   "cell_type": "code",
   "execution_count": 245,
   "metadata": {},
   "outputs": [
    {
     "data": {
      "text/html": [
       "<div>\n",
       "<style scoped>\n",
       "    .dataframe tbody tr th:only-of-type {\n",
       "        vertical-align: middle;\n",
       "    }\n",
       "\n",
       "    .dataframe tbody tr th {\n",
       "        vertical-align: top;\n",
       "    }\n",
       "\n",
       "    .dataframe thead th {\n",
       "        text-align: right;\n",
       "    }\n",
       "</style>\n",
       "<table border=\"1\" class=\"dataframe\">\n",
       "  <thead>\n",
       "    <tr style=\"text-align: right;\">\n",
       "      <th></th>\n",
       "      <th>Project</th>\n",
       "      <th>Begin Date</th>\n",
       "      <th>Common Name</th>\n",
       "    </tr>\n",
       "  </thead>\n",
       "  <tbody>\n",
       "    <tr>\n",
       "      <th>26</th>\n",
       "      <td>Fresno Mammals Project</td>\n",
       "      <td>2016-06-14</td>\n",
       "      <td>1</td>\n",
       "    </tr>\n",
       "    <tr>\n",
       "      <th>27</th>\n",
       "      <td>Fresno Mammals Project</td>\n",
       "      <td>2016-07-18</td>\n",
       "      <td>5</td>\n",
       "    </tr>\n",
       "    <tr>\n",
       "      <th>28</th>\n",
       "      <td>Fresno Mammals Project</td>\n",
       "      <td>2016-07-19</td>\n",
       "      <td>5</td>\n",
       "    </tr>\n",
       "    <tr>\n",
       "      <th>29</th>\n",
       "      <td>Fresno Mammals Project</td>\n",
       "      <td>2016-07-20</td>\n",
       "      <td>5</td>\n",
       "    </tr>\n",
       "    <tr>\n",
       "      <th>30</th>\n",
       "      <td>Fresno Mammals Project</td>\n",
       "      <td>2016-07-21</td>\n",
       "      <td>5</td>\n",
       "    </tr>\n",
       "  </tbody>\n",
       "</table>\n",
       "</div>"
      ],
      "text/plain": [
       "                   Project  Begin Date  Common Name\n",
       "26  Fresno Mammals Project  2016-06-14            1\n",
       "27  Fresno Mammals Project  2016-07-18            5\n",
       "28  Fresno Mammals Project  2016-07-19            5\n",
       "29  Fresno Mammals Project  2016-07-20            5\n",
       "30  Fresno Mammals Project  2016-07-21            5"
      ]
     },
     "execution_count": 245,
     "metadata": {},
     "output_type": "execute_result"
    }
   ],
   "source": [
    "df_fresno_mammals_project.head()"
   ]
  },
  {
   "cell_type": "markdown",
   "metadata": {},
   "source": [
    "### Visualization 2: Plot species richness per day. Species richness, in this case, is just a count of unique species."
   ]
  },
  {
   "cell_type": "code",
   "execution_count": 264,
   "metadata": {},
   "outputs": [
    {
     "data": {
      "text/plain": [
       "[<matplotlib.lines.Line2D at 0x129b53710>]"
      ]
     },
     "execution_count": 264,
     "metadata": {},
     "output_type": "execute_result"
    },
    {
     "data": {
      "image/png": "[encoded data removed]",
      "text/plain": [
       "<Figure size 864x288 with 1 Axes>"
      ]
     },
     "metadata": {
      "needs_background": "light"
     },
     "output_type": "display_data"
    }
   ],
   "source": [
    "import random\n",
    "plt.figure(figsize=(12, 4))\n",
    "plt.plot(df_fresno_mammals_project['Begin Date'], df_fresno_mammals_project['Common Name'], 'go')"
   ]
  },
  {
   "cell_type": "markdown",
   "metadata": {},
   "source": [
    "### Because counts are discrete, it's hard to find a pattern in the count of species richness over a period of time. Let's plot this on a bar graph and jitter the values with random noise to avoid overplotting."
   ]
  },
  {
   "cell_type": "code",
   "execution_count": 272,
   "metadata": {},
   "outputs": [
    {
     "data": {
      "text/plain": [
       "<BarContainer object of 174 artists>"
      ]
     },
     "execution_count": 272,
     "metadata": {},
     "output_type": "execute_result"
    },
    {
     "data": {
      "image/png": "[encoded data removed]",
      "text/plain": [
       "<Figure size 1440x288 with 1 Axes>"
      ]
     },
     "metadata": {
      "needs_background": "light"
     },
     "output_type": "display_data"
    }
   ],
   "source": [
    "plt.figure(figsize=(20,4))\n",
    "plt.bar(df_fresno_mammals_project['Begin Date'], map(lambda row: row*random.uniform(0,1), df_fresno_mammals_project['Common Name']), color='green')"
   ]
  },
  {
   "cell_type": "markdown",
   "metadata": {},
   "source": [
    "Let's look at August 2016 to December 2016 to have a more \"complete sample\" of data in this chart."
   ]
  },
  {
   "cell_type": "code",
   "execution_count": 300,
   "metadata": {},
   "outputs": [
    {
     "data": {
      "text/plain": [
       "<matplotlib.legend.Legend at 0x12d68b590>"
      ]
     },
     "execution_count": 300,
     "metadata": {},
     "output_type": "execute_result"
    },
    {
     "data": {
      "image/png": "[encoded data removed]",
      "text/plain": [
       "<Figure size 1440x432 with 1 Axes>"
      ]
     },
     "metadata": {
      "needs_background": "light"
     },
     "output_type": "display_data"
    }
   ],
   "source": [
    "plt.figure(figsize=(20,6))\n",
    "df_fresno_2016 = df_fresno_mammals_project[df_fresno_mammals_project['Begin Date'] < datetime.strptime('2017-01-01', '%Y-%m-%d').date()]\n",
    "df_fresno_2016_jittered = map(lambda row: row*random.uniform(0,1), df_fresno_2016['Common Name'])\n",
    "plt.bar(df_fresno_2016['Begin Date'], df_fresno_2016_jittered, color='green', label='jittered species richness')\n",
    "plt.axhline(y=np.mean(df_fresno_2016_jittered), color='r', linestyle='-', label='average of jittered species richness')\n",
    "plt.legend()"
   ]
  },
  {
   "cell_type": "markdown",
   "metadata": {},
   "source": [
    "### This doesn't tell us much, but it does tell us that the mean species richness gravitates towards a value that's between 1 and 2. It makes sense that, on average, there is no more than 2 sightings a day."
   ]
  },
  {
   "cell_type": "code",
   "execution_count": 348,
   "metadata": {},
   "outputs": [],
   "source": [
    "df_count_per_species_per_year = df.groupby(['Common Name', 'Begin Year']).count().reset_index()[['Common Name', 'Begin Year', 'Project']]"
   ]
  },
  {
   "cell_type": "code",
   "execution_count": 350,
   "metadata": {},
   "outputs": [],
   "source": [
    "df_count_per_species_per_year['n_times_n_minus_1'] = df_count_per_species_per_year.apply(lambda row: row['Project']*(row['Project']-1), axis=1)"
   ]
  },
  {
   "cell_type": "code",
   "execution_count": 351,
   "metadata": {},
   "outputs": [
    {
     "data": {
      "text/html": [
       "<div>\n",
       "<style scoped>\n",
       "    .dataframe tbody tr th:only-of-type {\n",
       "        vertical-align: middle;\n",
       "    }\n",
       "\n",
       "    .dataframe tbody tr th {\n",
       "        vertical-align: top;\n",
       "    }\n",
       "\n",
       "    .dataframe thead th {\n",
       "        text-align: right;\n",
       "    }\n",
       "</style>\n",
       "<table border=\"1\" class=\"dataframe\">\n",
       "  <thead>\n",
       "    <tr style=\"text-align: right;\">\n",
       "      <th></th>\n",
       "      <th>Common Name</th>\n",
       "      <th>Begin Year</th>\n",
       "      <th>Project</th>\n",
       "      <th>n_times_n_minus_1</th>\n",
       "    </tr>\n",
       "  </thead>\n",
       "  <tbody>\n",
       "    <tr>\n",
       "      <th>0</th>\n",
       "      <td>American Badger</td>\n",
       "      <td>2016</td>\n",
       "      <td>5</td>\n",
       "      <td>20</td>\n",
       "    </tr>\n",
       "    <tr>\n",
       "      <th>1</th>\n",
       "      <td>American Badger</td>\n",
       "      <td>2017</td>\n",
       "      <td>9</td>\n",
       "      <td>72</td>\n",
       "    </tr>\n",
       "    <tr>\n",
       "      <th>2</th>\n",
       "      <td>American Badger</td>\n",
       "      <td>2018</td>\n",
       "      <td>18</td>\n",
       "      <td>306</td>\n",
       "    </tr>\n",
       "    <tr>\n",
       "      <th>3</th>\n",
       "      <td>American Beaver</td>\n",
       "      <td>2018</td>\n",
       "      <td>8</td>\n",
       "      <td>56</td>\n",
       "    </tr>\n",
       "    <tr>\n",
       "      <th>4</th>\n",
       "      <td>American Black Bear</td>\n",
       "      <td>2017</td>\n",
       "      <td>27</td>\n",
       "      <td>702</td>\n",
       "    </tr>\n",
       "  </tbody>\n",
       "</table>\n",
       "</div>"
      ],
      "text/plain": [
       "           Common Name Begin Year  Project  n_times_n_minus_1\n",
       "0      American Badger       2016        5                 20\n",
       "1      American Badger       2017        9                 72\n",
       "2      American Badger       2018       18                306\n",
       "3      American Beaver       2018        8                 56\n",
       "4  American Black Bear       2017       27                702"
      ]
     },
     "execution_count": 351,
     "metadata": {},
     "output_type": "execute_result"
    }
   ],
   "source": [
    "df_count_per_species_per_year.head()"
   ]
  },
  {
   "cell_type": "code",
   "execution_count": 366,
   "metadata": {},
   "outputs": [],
   "source": [
    "df_sum_little_n = df_count_per_species_per_year.groupby(['Begin Year'])['n_times_n_minus_1'].sum().reset_index()"
   ]
  },
  {
   "cell_type": "code",
   "execution_count": 359,
   "metadata": {},
   "outputs": [],
   "source": [
    "df_sum_big_n = df_count_per_species_per_year.groupby(['Begin Year'])['Project'].sum().reset_index()"
   ]
  },
  {
   "cell_type": "code",
   "execution_count": 360,
   "metadata": {},
   "outputs": [],
   "source": [
    "df_sum_big_n['big_n_times_big_n_minus_1'] = df_sum_big_n.apply(lambda row: row['Project']*(row['Project']-1), axis=1)"
   ]
  },
  {
   "cell_type": "code",
   "execution_count": 362,
   "metadata": {},
   "outputs": [
    {
     "data": {
      "text/html": [
       "<div>\n",
       "<style scoped>\n",
       "    .dataframe tbody tr th:only-of-type {\n",
       "        vertical-align: middle;\n",
       "    }\n",
       "\n",
       "    .dataframe tbody tr th {\n",
       "        vertical-align: top;\n",
       "    }\n",
       "\n",
       "    .dataframe thead th {\n",
       "        text-align: right;\n",
       "    }\n",
       "</style>\n",
       "<table border=\"1\" class=\"dataframe\">\n",
       "  <thead>\n",
       "    <tr style=\"text-align: right;\">\n",
       "      <th></th>\n",
       "      <th>Begin Year</th>\n",
       "      <th>Project</th>\n",
       "      <th>big_n_times_big_n_minus_1</th>\n",
       "    </tr>\n",
       "  </thead>\n",
       "  <tbody>\n",
       "    <tr>\n",
       "      <th>0</th>\n",
       "      <td>1963</td>\n",
       "      <td>1</td>\n",
       "      <td>0</td>\n",
       "    </tr>\n",
       "    <tr>\n",
       "      <th>1</th>\n",
       "      <td>2012</td>\n",
       "      <td>207</td>\n",
       "      <td>42642</td>\n",
       "    </tr>\n",
       "    <tr>\n",
       "      <th>2</th>\n",
       "      <td>2014</td>\n",
       "      <td>38</td>\n",
       "      <td>1406</td>\n",
       "    </tr>\n",
       "    <tr>\n",
       "      <th>3</th>\n",
       "      <td>2015</td>\n",
       "      <td>20</td>\n",
       "      <td>380</td>\n",
       "    </tr>\n",
       "    <tr>\n",
       "      <th>4</th>\n",
       "      <td>2016</td>\n",
       "      <td>7663</td>\n",
       "      <td>58713906</td>\n",
       "    </tr>\n",
       "    <tr>\n",
       "      <th>5</th>\n",
       "      <td>2017</td>\n",
       "      <td>2404</td>\n",
       "      <td>5776812</td>\n",
       "    </tr>\n",
       "    <tr>\n",
       "      <th>6</th>\n",
       "      <td>2018</td>\n",
       "      <td>41221</td>\n",
       "      <td>1699129620</td>\n",
       "    </tr>\n",
       "    <tr>\n",
       "      <th>7</th>\n",
       "      <td>2019</td>\n",
       "      <td>489</td>\n",
       "      <td>238632</td>\n",
       "    </tr>\n",
       "  </tbody>\n",
       "</table>\n",
       "</div>"
      ],
      "text/plain": [
       "  Begin Year  Project  big_n_times_big_n_minus_1\n",
       "0       1963        1                          0\n",
       "1       2012      207                      42642\n",
       "2       2014       38                       1406\n",
       "3       2015       20                        380\n",
       "4       2016     7663                   58713906\n",
       "5       2017     2404                    5776812\n",
       "6       2018    41221                 1699129620\n",
       "7       2019      489                     238632"
      ]
     },
     "execution_count": 362,
     "metadata": {},
     "output_type": "execute_result"
    }
   ],
   "source": [
    "df_sum_big_n"
   ]
  },
  {
   "cell_type": "code",
   "execution_count": 370,
   "metadata": {},
   "outputs": [],
   "source": [
    "df_simpson_index = pd.merge(df_sum_little_n, df_sum_big_n, on='Begin Year', how='inner')"
   ]
  },
  {
   "cell_type": "code",
   "execution_count": 375,
   "metadata": {},
   "outputs": [],
   "source": [
    "df_simpson_index = df_simpson_index.drop(df_simpson_index.index[0])"
   ]
  },
  {
   "cell_type": "code",
   "execution_count": 378,
   "metadata": {},
   "outputs": [],
   "source": [
    "df_simpson_index['simpson_index'] = df_simpson_index.apply(lambda row: row['n_times_n_minus_1']/float(row['big_n_times_big_n_minus_1']), axis=1) "
   ]
  },
  {
   "cell_type": "code",
   "execution_count": 379,
   "metadata": {},
   "outputs": [
    {
     "data": {
      "text/html": [
       "<div>\n",
       "<style scoped>\n",
       "    .dataframe tbody tr th:only-of-type {\n",
       "        vertical-align: middle;\n",
       "    }\n",
       "\n",
       "    .dataframe tbody tr th {\n",
       "        vertical-align: top;\n",
       "    }\n",
       "\n",
       "    .dataframe thead th {\n",
       "        text-align: right;\n",
       "    }\n",
       "</style>\n",
       "<table border=\"1\" class=\"dataframe\">\n",
       "  <thead>\n",
       "    <tr style=\"text-align: right;\">\n",
       "      <th></th>\n",
       "      <th>Begin Year</th>\n",
       "      <th>n_times_n_minus_1</th>\n",
       "      <th>Project</th>\n",
       "      <th>big_n_times_big_n_minus_1</th>\n",
       "      <th>simpson_index</th>\n",
       "    </tr>\n",
       "  </thead>\n",
       "  <tbody>\n",
       "    <tr>\n",
       "      <th>1</th>\n",
       "      <td>2012</td>\n",
       "      <td>23792</td>\n",
       "      <td>207</td>\n",
       "      <td>42642</td>\n",
       "      <td>0.557948</td>\n",
       "    </tr>\n",
       "    <tr>\n",
       "      <th>2</th>\n",
       "      <td>2014</td>\n",
       "      <td>170</td>\n",
       "      <td>38</td>\n",
       "      <td>1406</td>\n",
       "      <td>0.120910</td>\n",
       "    </tr>\n",
       "    <tr>\n",
       "      <th>3</th>\n",
       "      <td>2015</td>\n",
       "      <td>34</td>\n",
       "      <td>20</td>\n",
       "      <td>380</td>\n",
       "      <td>0.089474</td>\n",
       "    </tr>\n",
       "    <tr>\n",
       "      <th>4</th>\n",
       "      <td>2016</td>\n",
       "      <td>16742440</td>\n",
       "      <td>7663</td>\n",
       "      <td>58713906</td>\n",
       "      <td>0.285153</td>\n",
       "    </tr>\n",
       "    <tr>\n",
       "      <th>5</th>\n",
       "      <td>2017</td>\n",
       "      <td>419236</td>\n",
       "      <td>2404</td>\n",
       "      <td>5776812</td>\n",
       "      <td>0.072572</td>\n",
       "    </tr>\n",
       "    <tr>\n",
       "      <th>6</th>\n",
       "      <td>2018</td>\n",
       "      <td>364183932</td>\n",
       "      <td>41221</td>\n",
       "      <td>1699129620</td>\n",
       "      <td>0.214336</td>\n",
       "    </tr>\n",
       "    <tr>\n",
       "      <th>7</th>\n",
       "      <td>2019</td>\n",
       "      <td>44726</td>\n",
       "      <td>489</td>\n",
       "      <td>238632</td>\n",
       "      <td>0.187427</td>\n",
       "    </tr>\n",
       "  </tbody>\n",
       "</table>\n",
       "</div>"
      ],
      "text/plain": [
       "  Begin Year  n_times_n_minus_1  Project  big_n_times_big_n_minus_1  \\\n",
       "1       2012              23792      207                      42642   \n",
       "2       2014                170       38                       1406   \n",
       "3       2015                 34       20                        380   \n",
       "4       2016           16742440     7663                   58713906   \n",
       "5       2017             419236     2404                    5776812   \n",
       "6       2018          364183932    41221                 1699129620   \n",
       "7       2019              44726      489                     238632   \n",
       "\n",
       "   simpson_index  \n",
       "1       0.557948  \n",
       "2       0.120910  \n",
       "3       0.089474  \n",
       "4       0.285153  \n",
       "5       0.072572  \n",
       "6       0.214336  \n",
       "7       0.187427  "
      ]
     },
     "execution_count": 379,
     "metadata": {},
     "output_type": "execute_result"
    }
   ],
   "source": [
    "df_simpson_index"
   ]
  },
  {
   "cell_type": "code",
   "execution_count": 389,
   "metadata": {},
   "outputs": [
    {
     "data": {
      "text/plain": [
       "<matplotlib.legend.Legend at 0x14c94c850>"
      ]
     },
     "execution_count": 389,
     "metadata": {},
     "output_type": "execute_result"
    },
    {
     "data": {
      "image/png": "[encoded data removed]",
      "text/plain": [
       "<Figure size 720x360 with 1 Axes>"
      ]
     },
     "metadata": {
      "needs_background": "light"
     },
     "output_type": "display_data"
    }
   ],
   "source": [
    "fig = plt.figure(figsize=(10,5))\n",
    "plt.rcParams['axes.facecolor'] = (.9, .9, .9)\n",
    "plt.plot(df_simpson_index['Begin Year'], df_simpson_index['simpson_index'], linewidth=2.4, alpha=0.9, color='blue', label='Simpson\\'s Diversity Index')\n",
    "plt.legend()"
   ]
  },
  {
   "cell_type": "code",
   "execution_count": null,
   "metadata": {},
   "outputs": [],
   "source": []
  }
 ],
 "metadata": {
  "kernelspec": {
   "display_name": "Python 2",
   "language": "python",
   "name": "python2"
  },
  "language_info": {
   "codemirror_mode": {
    "name": "ipython",
    "version": 2
   },
   "file_extension": ".py",
   "mimetype": "text/x-python",
   "name": "python",
   "nbconvert_exporter": "python",
   "pygments_lexer": "ipython2",
   "version": "2.7.10"
  }
 },
 "nbformat": 4,
 "nbformat_minor": 2
}
